{
 "cells": [
  {
   "cell_type": "code",
   "execution_count": 7,
   "metadata": {},
   "outputs": [],
   "source": [
    "import pandas as pd\n",
    "df = pd.read_csv('GVP_Emission_Results.csv')"
   ]
  },
  {
   "cell_type": "code",
   "execution_count": 9,
   "metadata": {},
   "outputs": [
    {
     "data": {
      "text/html": [
       "<div>\n",
       "<style scoped>\n",
       "    .dataframe tbody tr th:only-of-type {\n",
       "        vertical-align: middle;\n",
       "    }\n",
       "\n",
       "    .dataframe tbody tr th {\n",
       "        vertical-align: top;\n",
       "    }\n",
       "\n",
       "    .dataframe thead th {\n",
       "        text-align: right;\n",
       "    }\n",
       "</style>\n",
       "<table border=\"1\" class=\"dataframe\">\n",
       "  <thead>\n",
       "    <tr style=\"text-align: right;\">\n",
       "      <th></th>\n",
       "      <th>Volcano Number</th>\n",
       "      <th>Volcano Name</th>\n",
       "      <th>Country</th>\n",
       "      <th>Emission ID</th>\n",
       "      <th>Method</th>\n",
       "      <th>Start Date</th>\n",
       "      <th>End Date</th>\n",
       "      <th>Total SO2 Mass (kt)</th>\n",
       "      <th>SO2 Altitude Range Start</th>\n",
       "    </tr>\n",
       "  </thead>\n",
       "  <tbody>\n",
       "    <tr>\n",
       "      <th>0</th>\n",
       "      <td>290360</td>\n",
       "      <td>Chikurachki</td>\n",
       "      <td>Russia</td>\n",
       "      <td>182</td>\n",
       "      <td>Satellite</td>\n",
       "      <td>2016 Mar 30</td>\n",
       "      <td>2016 Mar 30</td>\n",
       "      <td>4.0</td>\n",
       "      <td>6.8</td>\n",
       "    </tr>\n",
       "    <tr>\n",
       "      <th>1</th>\n",
       "      <td>312030</td>\n",
       "      <td>Pavlof</td>\n",
       "      <td>United States</td>\n",
       "      <td>222</td>\n",
       "      <td>Satellite</td>\n",
       "      <td>2016 Mar 27</td>\n",
       "      <td>2016 Mar 27</td>\n",
       "      <td>20.0</td>\n",
       "      <td>9.0</td>\n",
       "    </tr>\n",
       "    <tr>\n",
       "      <th>2</th>\n",
       "      <td>266030</td>\n",
       "      <td>Soputan</td>\n",
       "      <td>Indonesia</td>\n",
       "      <td>150</td>\n",
       "      <td>Satellite</td>\n",
       "      <td>2016 Jan 05</td>\n",
       "      <td>2016 Jan 05</td>\n",
       "      <td>3.0</td>\n",
       "      <td>11.8</td>\n",
       "    </tr>\n",
       "    <tr>\n",
       "      <th>3</th>\n",
       "      <td>342090</td>\n",
       "      <td>Fuego</td>\n",
       "      <td>Guatemala</td>\n",
       "      <td>283</td>\n",
       "      <td>Satellite</td>\n",
       "      <td>2016 Jan 04</td>\n",
       "      <td>2016 Jan 20</td>\n",
       "      <td>2.0</td>\n",
       "      <td>7.0</td>\n",
       "    </tr>\n",
       "    <tr>\n",
       "      <th>4</th>\n",
       "      <td>342090</td>\n",
       "      <td>Fuego</td>\n",
       "      <td>Guatemala</td>\n",
       "      <td>284</td>\n",
       "      <td>Satellite</td>\n",
       "      <td>2016 Feb 10</td>\n",
       "      <td>2016 Feb 10</td>\n",
       "      <td>1.0</td>\n",
       "      <td>7.0</td>\n",
       "    </tr>\n",
       "  </tbody>\n",
       "</table>\n",
       "</div>"
      ],
      "text/plain": [
       "   Volcano Number Volcano Name        Country  Emission ID     Method  \\\n",
       "0          290360  Chikurachki         Russia          182  Satellite   \n",
       "1          312030       Pavlof  United States          222  Satellite   \n",
       "2          266030      Soputan      Indonesia          150  Satellite   \n",
       "3          342090        Fuego      Guatemala          283  Satellite   \n",
       "4          342090        Fuego      Guatemala          284  Satellite   \n",
       "\n",
       "    Start Date     End Date  Total SO2 Mass (kt)  SO2 Altitude Range Start  \n",
       "0  2016 Mar 30  2016 Mar 30                  4.0                       6.8  \n",
       "1  2016 Mar 27  2016 Mar 27                 20.0                       9.0  \n",
       "2  2016 Jan 05  2016 Jan 05                  3.0                      11.8  \n",
       "3  2016 Jan 04  2016 Jan 20                  2.0                       7.0  \n",
       "4  2016 Feb 10  2016 Feb 10                  1.0                       7.0  "
      ]
     },
     "execution_count": 9,
     "metadata": {},
     "output_type": "execute_result"
    }
   ],
   "source": [
    "df.head()"
   ]
  },
  {
   "cell_type": "code",
   "execution_count": 10,
   "metadata": {},
   "outputs": [
    {
     "data": {
      "text/plain": [
       "Volcano Number                int64\n",
       "Volcano Name                 object\n",
       "Country                      object\n",
       "Emission ID                   int64\n",
       "Method                       object\n",
       "Start Date                   object\n",
       "End Date                     object\n",
       "Total SO2 Mass (kt)         float64\n",
       "SO2 Altitude Range Start    float64\n",
       "dtype: object"
      ]
     },
     "execution_count": 10,
     "metadata": {},
     "output_type": "execute_result"
    }
   ],
   "source": [
    "df.dtypes"
   ]
  },
  {
   "cell_type": "code",
   "execution_count": null,
   "metadata": {},
   "outputs": [],
   "source": []
  }
 ],
 "metadata": {
  "kernelspec": {
   "display_name": "Python 3",
   "language": "python",
   "name": "python3"
  },
  "language_info": {
   "codemirror_mode": {
    "name": "ipython",
    "version": 3
   },
   "file_extension": ".py",
   "mimetype": "text/x-python",
   "name": "python",
   "nbconvert_exporter": "python",
   "pygments_lexer": "ipython3",
   "version": "3.9.1"
  }
 },
 "nbformat": 4,
 "nbformat_minor": 4
}
