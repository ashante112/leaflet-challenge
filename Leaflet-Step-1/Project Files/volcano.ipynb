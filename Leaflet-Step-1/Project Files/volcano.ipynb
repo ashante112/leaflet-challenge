{
 "cells": [
  {
   "cell_type": "code",
   "execution_count": 5,
   "metadata": {},
   "outputs": [],
   "source": [
    "import pandas as pd\n",
    "\n",
    "df = pd.read_csv('testload.csv')"
   ]
  },
  {
   "cell_type": "code",
   "execution_count": 6,
   "metadata": {
    "scrolled": true
   },
   "outputs": [
    {
     "data": {
      "text/html": [
       "<div>\n",
       "<style scoped>\n",
       "    .dataframe tbody tr th:only-of-type {\n",
       "        vertical-align: middle;\n",
       "    }\n",
       "\n",
       "    .dataframe tbody tr th {\n",
       "        vertical-align: top;\n",
       "    }\n",
       "\n",
       "    .dataframe thead th {\n",
       "        text-align: right;\n",
       "    }\n",
       "</style>\n",
       "<table border=\"1\" class=\"dataframe\">\n",
       "  <thead>\n",
       "    <tr style=\"text-align: right;\">\n",
       "      <th></th>\n",
       "      <th>Volcano_Number</th>\n",
       "      <th>Volcano_Name</th>\n",
       "      <th>Primary_Volcano_Type</th>\n",
       "      <th>Elevation</th>\n",
       "      <th>Tectonic_Settings</th>\n",
       "      <th>Population within 5 km</th>\n",
       "      <th>Population within 10 km</th>\n",
       "      <th>Population within 30 km</th>\n",
       "      <th>Population within 100 km</th>\n",
       "      <th>Latitude</th>\n",
       "    </tr>\n",
       "  </thead>\n",
       "  <tbody>\n",
       "    <tr>\n",
       "      <th>0</th>\n",
       "      <td>290390</td>\n",
       "      <td>Alaid</td>\n",
       "      <td>Stratovolcano</td>\n",
       "      <td>2285</td>\n",
       "      <td>Subduction zone / Continental crust (&gt;25 km)</td>\n",
       "      <td>NaN</td>\n",
       "      <td>64.0</td>\n",
       "      <td>64.0</td>\n",
       "      <td>2887.0</td>\n",
       "      <td>50.861</td>\n",
       "    </tr>\n",
       "    <tr>\n",
       "      <th>1</th>\n",
       "      <td>221060</td>\n",
       "      <td>Alu-Dalafilla</td>\n",
       "      <td>Fissure vent(s)</td>\n",
       "      <td>578</td>\n",
       "      <td>Rift zone / Intermediate crust (15-25 km)</td>\n",
       "      <td>NaN</td>\n",
       "      <td>NaN</td>\n",
       "      <td>11209.0</td>\n",
       "      <td>478054.0</td>\n",
       "      <td>13.793</td>\n",
       "    </tr>\n",
       "    <tr>\n",
       "      <th>2</th>\n",
       "      <td>257040</td>\n",
       "      <td>Ambrym</td>\n",
       "      <td>Pyroclastic shield</td>\n",
       "      <td>1334</td>\n",
       "      <td>Subduction zone / Intermediate crust (15-25 km)</td>\n",
       "      <td>NaN</td>\n",
       "      <td>186.0</td>\n",
       "      <td>10826.0</td>\n",
       "      <td>63999.0</td>\n",
       "      <td>-16.250</td>\n",
       "    </tr>\n",
       "    <tr>\n",
       "      <th>3</th>\n",
       "      <td>284200</td>\n",
       "      <td>Anatahan</td>\n",
       "      <td>Stratovolcano</td>\n",
       "      <td>790</td>\n",
       "      <td>Subduction zone / Crustal thickness unknown</td>\n",
       "      <td>NaN</td>\n",
       "      <td>NaN</td>\n",
       "      <td>NaN</td>\n",
       "      <td>NaN</td>\n",
       "      <td>16.350</td>\n",
       "    </tr>\n",
       "    <tr>\n",
       "      <th>4</th>\n",
       "      <td>283110</td>\n",
       "      <td>Asamayama</td>\n",
       "      <td>Complex</td>\n",
       "      <td>2568</td>\n",
       "      <td>Subduction zone / Continental crust (&gt;25 km)</td>\n",
       "      <td>583.0</td>\n",
       "      <td>22371.0</td>\n",
       "      <td>457576.0</td>\n",
       "      <td>7629353.0</td>\n",
       "      <td>36.406</td>\n",
       "    </tr>\n",
       "  </tbody>\n",
       "</table>\n",
       "</div>"
      ],
      "text/plain": [
       "   Volcano_Number   Volcano_Name Primary_Volcano_Type  Elevation  \\\n",
       "0          290390          Alaid        Stratovolcano       2285   \n",
       "1          221060  Alu-Dalafilla      Fissure vent(s)        578   \n",
       "2          257040         Ambrym   Pyroclastic shield       1334   \n",
       "3          284200       Anatahan        Stratovolcano        790   \n",
       "4          283110      Asamayama              Complex       2568   \n",
       "\n",
       "                                 Tectonic_Settings  Population within 5 km  \\\n",
       "0     Subduction zone / Continental crust (>25 km)                     NaN   \n",
       "1        Rift zone / Intermediate crust (15-25 km)                     NaN   \n",
       "2  Subduction zone / Intermediate crust (15-25 km)                     NaN   \n",
       "3      Subduction zone / Crustal thickness unknown                     NaN   \n",
       "4     Subduction zone / Continental crust (>25 km)                   583.0   \n",
       "\n",
       "   Population within 10 km  Population within 30 km  Population within 100 km  \\\n",
       "0                     64.0                     64.0                    2887.0   \n",
       "1                      NaN                  11209.0                  478054.0   \n",
       "2                    186.0                  10826.0                   63999.0   \n",
       "3                      NaN                      NaN                       NaN   \n",
       "4                  22371.0                 457576.0                 7629353.0   \n",
       "\n",
       "   Latitude  \n",
       "0    50.861  \n",
       "1    13.793  \n",
       "2   -16.250  \n",
       "3    16.350  \n",
       "4    36.406  "
      ]
     },
     "execution_count": 6,
     "metadata": {},
     "output_type": "execute_result"
    }
   ],
   "source": [
    "df.head()"
   ]
  },
  {
   "cell_type": "code",
   "execution_count": null,
   "metadata": {},
   "outputs": [],
   "source": []
  },
  {
   "cell_type": "code",
   "execution_count": null,
   "metadata": {
    "scrolled": true
   },
   "outputs": [],
   "source": []
  },
  {
   "cell_type": "code",
   "execution_count": null,
   "metadata": {},
   "outputs": [],
   "source": []
  },
  {
   "cell_type": "code",
   "execution_count": null,
   "metadata": {},
   "outputs": [],
   "source": []
  },
  {
   "cell_type": "code",
   "execution_count": 7,
   "metadata": {
    "scrolled": true
   },
   "outputs": [
    {
     "data": {
      "text/plain": [
       "Volcano_Number                int64\n",
       "Volcano_Name                 object\n",
       "Primary_Volcano_Type         object\n",
       "Elevation                     int64\n",
       "Tectonic_Settings            object\n",
       "Population within 5 km      float64\n",
       "Population within 10 km     float64\n",
       "Population within 30 km     float64\n",
       "Population within 100 km    float64\n",
       "Latitude                    float64\n",
       "dtype: object"
      ]
     },
     "execution_count": 7,
     "metadata": {},
     "output_type": "execute_result"
    }
   ],
   "source": [
    "df.dtypes"
   ]
  },
  {
   "cell_type": "code",
   "execution_count": null,
   "metadata": {},
   "outputs": [],
   "source": []
  }
 ],
 "metadata": {
  "kernelspec": {
   "display_name": "Python 3",
   "language": "python",
   "name": "python3"
  },
  "language_info": {
   "codemirror_mode": {
    "name": "ipython",
    "version": 3
   },
   "file_extension": ".py",
   "mimetype": "text/x-python",
   "name": "python",
   "nbconvert_exporter": "python",
   "pygments_lexer": "ipython3",
   "version": "3.9.1"
  }
 },
 "nbformat": 4,
 "nbformat_minor": 4
}
